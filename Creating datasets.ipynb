{
 "cells": [
  {
   "cell_type": "code",
   "execution_count": 7,
   "metadata": {},
   "outputs": [],
   "source": [
    "from pyspark import SparkContext, SparkConf\n",
    "from pyspark.sql.functions import col\n",
    "import pandas as pd\n",
    "import numpy as np\n",
    "import pickle\n",
    "import pyarrow.parquet"
   ]
  },
  {
   "cell_type": "code",
   "execution_count": 8,
   "metadata": {},
   "outputs": [
    {
     "name": "stdout",
     "output_type": "stream",
     "text": [
      "CPU times: user 5.36 s, sys: 3.43 s, total: 8.79 s\n",
      "Wall time: 8.62 s\n"
     ]
    },
    {
     "data": {
      "text/plain": [
       "(10000000, 12)"
      ]
     },
     "execution_count": 8,
     "metadata": {},
     "output_type": "execute_result"
    }
   ],
   "source": [
    "%%time\n",
    "targets = pd.read_parquet(\"hdfs:///projetos/covariate_shift/bureau/targets_hashed.parquet\", engine=\"pyarrow\", use_threads=True) #pd.read_parquet(\"hdfs:///projetos/covariate_shift/bureau/len_src_data.parquet\")\n",
    "targets.shape"
   ]
  },
  {
   "cell_type": "code",
   "execution_count": 3,
   "metadata": {},
   "outputs": [],
   "source": [
    "targets=targets.loc[:,['DT_T0','NDOC','SConcEver30dP3_100']]\n",
    "targets=targets.rename(columns={\"DT_T0\": \"dt_t0\", \"NDOC\": \"ndoc\"})"
   ]
  },
  {
   "cell_type": "code",
   "execution_count": 4,
   "metadata": {},
   "outputs": [
    {
     "name": "stdout",
     "output_type": "stream",
     "text": [
      "CPU times: user 33min 51s, sys: 16min 11s, total: 50min 3s\n",
      "Wall time: 16min 19s\n"
     ]
    },
    {
     "data": {
      "text/plain": [
       "(10000001, 1794)"
      ]
     },
     "execution_count": 4,
     "metadata": {},
     "output_type": "execute_result"
    }
   ],
   "source": [
    "%%time\n",
    "\n",
    "real_data = pd.read_parquet(\"hdfs:///projetos/covariate_shift/bureau/book_positivo_hashed.parquet\", engine=\"pyarrow\", use_threads=True) \n",
    "real_data.shape"
   ]
  },
  {
   "cell_type": "code",
   "execution_count": 5,
   "metadata": {},
   "outputs": [
    {
     "data": {
      "text/plain": [
       "(10, 10)"
      ]
     },
     "execution_count": 5,
     "metadata": {},
     "output_type": "execute_result"
    }
   ],
   "source": [
    "dates_feat=['2019-08-16','2019-09-15','2019-10-15','2019-11-14',\n",
    "            '2019-12-14','2020-01-13','2020-02-12','2020-03-13','2020-04-12','2020-05-12']\n",
    "dates_targ=['2019-08-16 00:00:00','2019-09-15 00:00:00','2019-10-15 00:00:00','2019-11-14 00:00:00',\n",
    "            '2019-12-14 00:00:00','2020-01-13 00:00:00','2020-02-12 00:00:00','2020-03-13 00:00:00',\n",
    "            '2020-04-12 00:00:00','2020-05-12 00:00:00']\n",
    "\n",
    "len(dates_feat), len(dates_targ)"
   ]
  },
  {
   "cell_type": "code",
   "execution_count": 6,
   "metadata": {},
   "outputs": [
    {
     "name": "stdout",
     "output_type": "stream",
     "text": [
      "\n",
      "*** t= 0 ***\n",
      "\n",
      "*** t= 1 ***\n",
      "\n",
      "*** t= 2 ***\n",
      "\n",
      "*** t= 3 ***\n",
      "\n",
      "*** t= 4 ***\n",
      "\n",
      "*** t= 5 ***\n",
      "\n",
      "*** t= 6 ***\n",
      "\n",
      "*** t= 7 ***\n",
      "\n",
      "*** t= 8 ***\n",
      "\n",
      "*** t= 9 ***\n",
      "CPU times: user 51min 24s, sys: 10min 36s, total: 1h 2min 1s\n",
      "Wall time: 1h 1min 23s\n"
     ]
    }
   ],
   "source": [
    "%%time\n",
    "\n",
    "for i in range(len(dates_feat)):\n",
    "    print(\"\\n*** t=\",i,\"***\")\n",
    "    merged=pd.merge(real_data.loc[real_data.dt_t0==dates_feat[i],:],targets.loc[targets.dt_t0==dates_targ[i],:], on='ndoc')\n",
    "    merged=merged.drop(columns=['dt_t0_x','dt_t0_y'])\n",
    "    merged.to_csv('data/dataset_t'+str(i)+'_complete.csv')"
   ]
  },
  {
   "cell_type": "code",
   "execution_count": null,
   "metadata": {},
   "outputs": [],
   "source": []
  },
  {
   "cell_type": "code",
   "execution_count": null,
   "metadata": {},
   "outputs": [],
   "source": []
  },
  {
   "cell_type": "code",
   "execution_count": null,
   "metadata": {},
   "outputs": [],
   "source": []
  },
  {
   "cell_type": "code",
   "execution_count": null,
   "metadata": {},
   "outputs": [],
   "source": []
  },
  {
   "cell_type": "code",
   "execution_count": null,
   "metadata": {},
   "outputs": [],
   "source": []
  }
 ],
 "metadata": {
  "kernelspec": {
   "display_name": "Python 3",
   "language": "python",
   "name": "python3"
  },
  "language_info": {
   "codemirror_mode": {
    "name": "ipython",
    "version": 3
   },
   "file_extension": ".py",
   "mimetype": "text/x-python",
   "name": "python",
   "nbconvert_exporter": "python",
   "pygments_lexer": "ipython3",
   "version": "3.8.3"
  },
  "toc": {
   "base_numbering": 1,
   "nav_menu": {},
   "number_sections": true,
   "sideBar": true,
   "skip_h1_title": false,
   "title_cell": "Table of Contents",
   "title_sidebar": "Contents",
   "toc_cell": false,
   "toc_position": {},
   "toc_section_display": true,
   "toc_window_display": false
  }
 },
 "nbformat": 4,
 "nbformat_minor": 4
}
