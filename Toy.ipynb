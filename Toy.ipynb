{
  "nbformat": 4,
  "nbformat_minor": 0,
  "metadata": {
    "colab": {
      "name": "Toy 4.ipynb",
      "provenance": [],
      "collapsed_sections": [],
      "authorship_tag": "ABX9TyOP1fSx0/9mYz5u53h4uUEm",
      "include_colab_link": true
    },
    "kernelspec": {
      "name": "python3",
      "display_name": "Python 3"
    },
    "language_info": {
      "name": "python"
    }
  },
  "cells": [
    {
      "cell_type": "markdown",
      "metadata": {
        "id": "view-in-github",
        "colab_type": "text"
      },
      "source": [
        "<a href=\"https://colab.research.google.com/github/felipemaiapolo/decomposing_dataset_shift/blob/main/Toy.ipynb\" target=\"_parent\"><img src=\"https://colab.research.google.com/assets/colab-badge.svg\" alt=\"Open In Colab\"/></a>"
      ]
    },
    {
      "cell_type": "markdown",
      "metadata": {
        "id": "5LlMPLaC9FTN"
      },
      "source": [
        "# Decomposing distributions shift into Covariate Shift and Expected Concept Drift"
      ]
    },
    {
      "cell_type": "markdown",
      "metadata": {
        "id": "ysagu8JXXwE3"
      },
      "source": [
        "Loading packages"
      ]
    },
    {
      "cell_type": "code",
      "metadata": {
        "id": "BB7N92y7XwP6"
      },
      "source": [
        "random_state=42\n",
        "\n",
        "import xgboost as xgb\n",
        "import numpy as np\n",
        "import matplotlib.pyplot as plt\n",
        "from sklearn.model_selection import train_test_split\n",
        "import seaborn as sns\n",
        "import pandas as pd\n",
        "from tqdm import tqdm"
      ],
      "execution_count": 1,
      "outputs": []
    },
    {
      "cell_type": "markdown",
      "metadata": {
        "id": "n_wKJE_I9eKn"
      },
      "source": [
        "## Decomposition\n",
        "\n",
        "Being $P_{X,Y}$ the target joint distribution of features and label and $Q_{X,Y}$ the source joint distribution of features and label, we have that\n",
        "\n",
        "\\begin{align}\n",
        "\\text{D}_\\text{KL}(P_{X,Y}||Q_{X,Y})&=\\mathbb{E}_{P_{X,Y}}\\left[\\log \\frac{p_{Y|X}(y|x)p_X(x)}{q_{Y|X}(y|x)q_X(x)}\\right]\\\\[.5em]\n",
        "&=\\mathbb{E}_{P_{X,Y}}\\left[\\log \\frac{p_{Y|X}(y|x)}{q_{Y|X}(y|x)}\\right]+\\mathbb{E}_{P_{X}}\\left[\\log \\frac{p_X(x)}{q_X(x)}\\right]\\\\[.5em]\n",
        "&=\\mathbb{E}_{P_{X}}\\left[\\text{D}_\\text{KL}(P_{Y|X}||Q_{Y|X})\\right]+\\text{D}_\\text{KL}(P_{X}||Q_{X})\n",
        "\\end{align}\n",
        "\n",
        "Source: \n",
        "- Polyanskiy, Y., & Wu, Y. (2014). Lecture notes on information theory. Lecture Notes for ECE563 (UIUC) and, 6(2012-2016), 7. http://www.stat.yale.edu/~yw562/teaching/itlectures.pdf (Search for \"Disintegration\")\n",
        "- https://math.stackexchange.com/questions/1804682/conditional-radon-nikodym-and-disintegration"
      ]
    },
    {
      "cell_type": "markdown",
      "metadata": {
        "id": "d3UG2TOzE2o4"
      },
      "source": [
        "## Toy Model Experiments\n",
        "\n",
        "Consider the source distributions: \n",
        "\\begin{align}\n",
        "q_X(x)=\\mathcal{N}(x|\\mathbf{0}, \\mathbf{I}_d) ~~~~~~ q_{Y|X}(y|x)=\\mathcal{N}(y|x, 1) \n",
        "\\end{align}\n",
        "\n",
        "And then consider the target distributions: \n",
        "\\begin{align}\n",
        "p_X(x; \\lambda)=\\mathcal{N}(x|\\lambda \\cdot \\mathbb{1}, \\mathbf{I}_d) ~~~~~~ p_{Y|X}(y|x; \\theta)=\\mathcal{N}(y|\\theta+x, 1) \n",
        "\\end{align}\n",
        "\n",
        "We can now decompose the joint distributions KL divergence as\n",
        "\n",
        "\\begin{align}\n",
        "\\text{D}_\\text{KL}(P_{X,Y}||Q_{X,Y})&=\\color{blue}{\\mathbb{E}_{P_{X,Y}}\\left[\\log \\frac{p_{Y|X}(y|x;\\theta)}{q_{Y|X}(y|x)}\\right]}+\\color{red}{\\mathbb{E}_{P_{X}}\\left[\\log \\frac{p_X(x;\\lambda)}{q_X(x)}\\right]}\\\\[.5em]\n",
        "&=\\color{blue}{\\frac{\\theta^2}{2}} + \\color{red}{\\frac{d\\lambda^2}{2}}\n",
        "\\end{align}\n",
        "\n",
        "We assume $d=1$ in this notebook."
      ]
    },
    {
      "cell_type": "code",
      "metadata": {
        "id": "B17OyxlnJIq_"
      },
      "source": [
        "def conc_div(theta, lamb): return ((theta**2))/2 #(1+lamb**2)*\n",
        "def cov_div(d,lamb): return (d*lamb**2)/2"
      ],
      "execution_count": 2,
      "outputs": []
    },
    {
      "cell_type": "markdown",
      "metadata": {
        "id": "HeZENMopOsZ3"
      },
      "source": [
        "### Experiment 1\n",
        "\n",
        "Generating artificial data"
      ]
    },
    {
      "cell_type": "code",
      "metadata": {
        "id": "DPUN-nvsPNyy"
      },
      "source": [
        "n = 100000\n",
        "theta = 1\n",
        "lamb = 1"
      ],
      "execution_count": 3,
      "outputs": []
    },
    {
      "cell_type": "markdown",
      "metadata": {
        "id": "RWV2dNQtPYod"
      },
      "source": [
        "Source"
      ]
    },
    {
      "cell_type": "code",
      "metadata": {
        "id": "eDQzMw61Or5T"
      },
      "source": [
        "Xs = np.random.normal(0,1,n)\n",
        "ys = np.random.normal(Xs,1,n)"
      ],
      "execution_count": 4,
      "outputs": []
    },
    {
      "cell_type": "markdown",
      "metadata": {
        "id": "SMEITPkeWeed"
      },
      "source": [
        "Target"
      ]
    },
    {
      "cell_type": "code",
      "metadata": {
        "id": "6BU4262PQdFY"
      },
      "source": [
        "Xt = np.random.normal(lamb,1,n)\n",
        "yt = np.random.normal(theta + Xt,1,n)"
      ],
      "execution_count": 5,
      "outputs": []
    },
    {
      "cell_type": "markdown",
      "metadata": {
        "id": "fHRjKCviWh3e"
      },
      "source": [
        "Plotting Joint Distributions"
      ]
    },
    {
      "cell_type": "code",
      "metadata": {
        "id": "5iHmCJPfUa4M"
      },
      "source": [
        "df={'Distribution': n*['Source']+n*['Target'],\n",
        "    'Label': n*[0]+n*[1],\n",
        "    'X': np.hstack((Xs, Xt)),\n",
        "    'y': np.hstack((ys, yt))}\n",
        "\n",
        "df=pd.DataFrame(df)"
      ],
      "execution_count": 6,
      "outputs": []
    },
    {
      "cell_type": "code",
      "metadata": {
        "colab": {
          "base_uri": "https://localhost:8080/"
        },
        "id": "DRwBVuIYdQX7",
        "outputId": "2fede858-9b88-4288-dc68-16b9631de7a2"
      },
      "source": [
        "from google.colab import drive\n",
        "drive.mount('/content/drive')\n",
        "path = \"/content/drive/My Drive/Mestrado/Thesis/Plots/\""
      ],
      "execution_count": 7,
      "outputs": [
        {
          "output_type": "stream",
          "text": [
            "Mounted at /content/drive\n"
          ],
          "name": "stdout"
        }
      ]
    },
    {
      "cell_type": "code",
      "metadata": {
        "colab": {
          "base_uri": "https://localhost:8080/",
          "height": 279
        },
        "id": "QX8AwswwQ83G",
        "outputId": "6ab01d88-ac7d-4103-8f0f-48bbd7c426f6"
      },
      "source": [
        "m=min(n,n)\n",
        "\n",
        "sns.kdeplot(data=df.sample(n=m,replace=False), x=\"X\", y=\"y\", hue=\"Distribution\", fill=True, alpha=.65, palette=['g','b'])\n",
        "#plt.title('Comparing Source and Target joint distributions ($\\lambda=1,~\\Theta=1$)')\n",
        "plt.xlabel('x')\n",
        "plt.ylabel('y')\n",
        "plt.grid(alpha=.5)\n",
        "plt.savefig(path+'decomp0.png', bbox_inches='tight', dpi=300, transparent=True)\n",
        "plt.show()"
      ],
      "execution_count": 8,
      "outputs": [
        {
          "output_type": "display_data",
          "data": {
            "image/png": "[encoded data removed]",
            "text/plain": [
              "<Figure size 432x288 with 1 Axes>"
            ]
          },
          "metadata": {
            "tags": [],
            "needs_background": "light"
          }
        }
      ]
    },
    {
      "cell_type": "markdown",
      "metadata": {
        "id": "bCX5-obzFiu9"
      },
      "source": [
        "Creating Test Set"
      ]
    },
    {
      "cell_type": "code",
      "metadata": {
        "colab": {
          "base_uri": "https://localhost:8080/"
        },
        "id": "q5hRLVYMFmfA",
        "outputId": "cf8e4df1-355b-4e8c-94a3-74cd0095fa2d"
      },
      "source": [
        "m=100000\n",
        "Xt_test = np.random.normal(lamb,1,m)\n",
        "yt_test = np.random.normal(theta + Xt_test,1,m)\n",
        "\n",
        "Xt_test=Xt_test.reshape(-1,1)\n",
        "yt_test=yt_test.reshape(-1,1)\n",
        "\n",
        "Zt_test=np.hstack((Xt_test, yt_test))\n",
        "Zt_test.shape"
      ],
      "execution_count": 9,
      "outputs": [
        {
          "output_type": "execute_result",
          "data": {
            "text/plain": [
              "(100000, 2)"
            ]
          },
          "metadata": {
            "tags": []
          },
          "execution_count": 9
        }
      ]
    },
    {
      "cell_type": "markdown",
      "metadata": {
        "id": "yZQqGYn4GCz1"
      },
      "source": [
        "Training w models"
      ]
    },
    {
      "cell_type": "code",
      "metadata": {
        "id": "5i0_9I2rPWfo"
      },
      "source": [
        "class w_model:\n",
        "  def __init__(self):\n",
        "    self.model=None\n",
        "  \n",
        "  def fit(self, Xw, yw, verbose=False):\n",
        "    np.random.seed(random_state)\n",
        "\n",
        "    Xw_train, Xw_val, yw_train, yw_val = train_test_split(Xw, yw, test_size=0.2, stratify=df.Label, random_state=random_state)\n",
        "\n",
        "    self.model = xgb.XGBClassifier(learning_rate=0.05,\n",
        "                              objective = 'binary:logistic', \n",
        "                              n_estimators=500,\n",
        "                              n_jobs=-1,\n",
        "                              random_state=random_state,\n",
        "                              seed=random_state)\n",
        "              \n",
        "    self.model.fit(Xw_train, yw_train,\n",
        "                    verbose=verbose,\n",
        "                    early_stopping_rounds=15,\n",
        "                    eval_metric='logloss',\n",
        "                    eval_set=[(Xw_val, yw_val)])\n",
        "\n",
        "  def predict(self, Z):\n",
        "    p=self.model.predict_proba(Z)[:,1]\n",
        "    return p/(1-p)\n",
        "\n",
        "  def kl(self, Zt_test):\n",
        "    n=Zt_test.shape[0]\n",
        "    pred=self.predict(Zt_test)\n",
        "    value=np.mean(np.log(pred))\n",
        "    #error=np.std(np.log(pred))/np.sqrt(n)\n",
        "    return value #, error"
      ],
      "execution_count": 10,
      "outputs": []
    },
    {
      "cell_type": "code",
      "metadata": {
        "colab": {
          "base_uri": "https://localhost:8080/"
        },
        "id": "NmiByeOfjPbI",
        "outputId": "5d1c544a-7d14-483b-95ef-071aa71eecc5"
      },
      "source": [
        "%%time\n",
        "\n",
        "#Covariate Shift\n",
        "Xw = np.array(df.X).reshape(-1,1)\n",
        "yw = np.array(df.Label) #.reshape(-1,1)\n",
        "\n",
        "w_cov = w_model()\n",
        "w_cov.fit(Xw, yw)\n",
        "\n",
        "#Total Shift\n",
        "Xw = np.array(df.loc[:,['X','y']])\n",
        "yw = np.array(df.Label) \n",
        "\n",
        "w_total = w_model()\n",
        "w_total.fit(Xw, yw)\n"
      ],
      "execution_count": 11,
      "outputs": [
        {
          "output_type": "stream",
          "text": [
            "CPU times: user 26 s, sys: 86.6 ms, total: 26 s\n",
            "Wall time: 13.9 s\n"
          ],
          "name": "stdout"
        }
      ]
    },
    {
      "cell_type": "markdown",
      "metadata": {
        "id": "sk8VVJEaGfjy"
      },
      "source": [
        "Avaliando"
      ]
    },
    {
      "cell_type": "code",
      "metadata": {
        "id": "6iNciTOwGiG_"
      },
      "source": [
        "print(\"*** Covariate Shift ***\")\n",
        "print(\"Theoretical:{:.4f}  Empirical:{:.4f}\".format(cov_div(1,lamb), w_cov.kl(Xt_test)))\n",
        "\n",
        "print(\"\\n*** Expected Concept Drift ***\")\n",
        "print(\"Theoretical:{:.4f}  Empirical:{:.4f}\".format(conc_div(theta, lamb), w_total.kl(Zt_test)-w_cov.kl(Xt_test)))"
      ],
      "execution_count": null,
      "outputs": []
    },
    {
      "cell_type": "markdown",
      "metadata": {
        "id": "00Lo2ltMtyH4"
      },
      "source": [
        "### Experiment 2"
      ]
    },
    {
      "cell_type": "markdown",
      "metadata": {
        "id": "oRHJPqgPaOyH"
      },
      "source": [
        "Theoretical"
      ]
    },
    {
      "cell_type": "code",
      "metadata": {
        "id": "XZW2ZItujPiM"
      },
      "source": [
        "x=np.linspace(0,3,15)\n",
        "T_total=[]\n",
        "T_cov=[]\n",
        "\n",
        "for t in x[::-1]:\n",
        "  lista_total=[]\n",
        "  lista_cov=[]\n",
        "  for l in x:\n",
        "    lista_total.append(cov_div(1,l) + conc_div(t, l))\n",
        "    lista_cov.append(cov_div(1,l))\n",
        "  \n",
        "  T_total.append(lista_total)\n",
        "  T_cov.append(lista_cov)\n",
        "\n",
        "T_total=np.array(T_total)\n",
        "T_cov=np.array(T_cov)\n",
        "T_conc=T_total-T_cov"
      ],
      "execution_count": null,
      "outputs": []
    },
    {
      "cell_type": "code",
      "metadata": {
        "id": "7z0baqEOkMCA"
      },
      "source": [
        "T=[T_total, T_cov, T_conc]\n",
        "titles=[\"Total Distribution Shift\", \"Covariate Shift\", \"Expected Concept Shift\"]"
      ],
      "execution_count": null,
      "outputs": []
    },
    {
      "cell_type": "code",
      "metadata": {
        "colab": {
          "base_uri": "https://localhost:8080/",
          "height": 259
        },
        "id": "YLxu39kejoVQ",
        "outputId": "aa717612-0ffd-49f4-ced1-655cfbce5fca"
      },
      "source": [
        "fig, axs = plt.subplots(1,3, sharex= True)\n",
        "  \n",
        "max=np.max(T_total)\n",
        "\n",
        "for i in range(3):\n",
        "  im=axs[i].imshow(T[i], cmap='viridis', vmin=0, vmax=max)\n",
        "  axs[i].set_title(titles[i], size=14)\n",
        "  axs[i].set_xlabel(\"$\\lambda$\", size=12)\n",
        "  axs[i].set_ylabel(\"$\\Theta$\", size=12)\n",
        "\n",
        "  ticks=[0,7,14]\n",
        "  labels=np.round(x, 2)[ticks]\n",
        "  axs[i].set_xticks(ticks)\n",
        "  axs[i].set_xticklabels(labels)\n",
        "  axs[i].set_yticks(ticks)\n",
        "  axs[i].set_yticklabels(labels[::-1])\n",
        "  \n",
        "cbar = fig.colorbar(im, ax=axs.ravel().tolist())\n",
        "\n",
        "fig.set_figheight(3.25)\n",
        "fig.set_figwidth(15)\n",
        "plt.savefig(path+'decomp1.png', bbox_inches='tight', dpi=300, transparent=True)\n",
        "plt.show()"
      ],
      "execution_count": 15,
      "outputs": [
        {
          "output_type": "display_data",
          "data": {
            "image/png": "[encoded data removed]",
            "text/plain": [
              "<Figure size 1080x234 with 4 Axes>"
            ]
          },
          "metadata": {
            "tags": [],
            "needs_background": "light"
          }
        }
      ]
    },
    {
      "cell_type": "markdown",
      "metadata": {
        "id": "UwT8URiuaRRW"
      },
      "source": [
        "Empirical"
      ]
    },
    {
      "cell_type": "code",
      "metadata": {
        "colab": {
          "base_uri": "https://localhost:8080/"
        },
        "id": "I9-kxrQNaNjb",
        "outputId": "967d65ea-8b6d-43d4-ac9c-d0853e3f0c1d"
      },
      "source": [
        "E_total=[]\n",
        "E_cov=[]\n",
        "\n",
        "for t in tqdm(x[::-1]):\n",
        "  lista_total=[]\n",
        "  lista_cov=[]\n",
        "  for l in x:\n",
        "    ###Generating Training Data\n",
        "    Xs = np.random.normal(0,1,n)\n",
        "    ys = np.random.normal(Xs,1,n)\n",
        "    Xt = np.random.normal(l,1,n)\n",
        "    yt = np.random.normal(t+Xt,1,n)\n",
        "    df={'Distribution': n*['Source']+n*['Target'],\n",
        "        'Label': n*[0]+n*[1],\n",
        "        'X': np.hstack((Xs, Xt)),\n",
        "        'y': np.hstack((ys, yt))}\n",
        "    df=pd.DataFrame(df)\n",
        "\n",
        "    ### Generating Testing Data\n",
        "    Xt_test = np.random.normal(l,1,n)\n",
        "    yt_test = np.random.normal(t+Xt_test,1,n)\n",
        "    Xt_test=Xt_test.reshape(-1,1)\n",
        "    yt_test=yt_test.reshape(-1,1)\n",
        "    Zt_test=np.hstack((Xt_test, yt_test))\n",
        " \n",
        "    ### Training models\n",
        "    #Covariate Shift\n",
        "    Xw = np.array(df.X).reshape(-1,1)\n",
        "    yw = np.array(df.Label) #.reshape(-1,1)\n",
        "    w_cov = w_model()\n",
        "    w_cov.fit(Xw, yw)\n",
        "\n",
        "    #Total Shift\n",
        "    Xw = np.array(df.loc[:,['X','y']])\n",
        "    yw = np.array(df.Label) \n",
        "    w_total = w_model()\n",
        "    w_total.fit(Xw, yw)\n",
        "\n",
        "    #Storing\n",
        "    lista_total.append(w_total.kl(Zt_test))\n",
        "    lista_cov.append(w_cov.kl(Xt_test))\n",
        "\n",
        "  E_total.append(lista_total)\n",
        "  E_cov.append(lista_cov)\n",
        "\n",
        "E_total=np.array(E_total)\n",
        "E_cov=np.array(E_cov)\n",
        "E_conc=E_total-E_cov"
      ],
      "execution_count": 16,
      "outputs": [
        {
          "output_type": "stream",
          "text": [
            "100%|██████████| 15/15 [1:16:51<00:00, 307.47s/it]\n"
          ],
          "name": "stderr"
        }
      ]
    },
    {
      "cell_type": "code",
      "metadata": {
        "id": "NNzxNgCjnWcO"
      },
      "source": [
        "E=[E_total, E_cov, E_conc]"
      ],
      "execution_count": 17,
      "outputs": []
    },
    {
      "cell_type": "code",
      "metadata": {
        "colab": {
          "base_uri": "https://localhost:8080/",
          "height": 259
        },
        "id": "ltBKCRVKBDFN",
        "outputId": "f8e4d396-2a68-4903-d6cf-7e2fc66219e1"
      },
      "source": [
        "fig, axs = plt.subplots(1,3, sharex= True)\n",
        "  \n",
        "max=np.max(T_total)\n",
        "\n",
        "for i in range(3):\n",
        "  im=axs[i].imshow(E[i], cmap='viridis', vmin=0, vmax=max)\n",
        "  axs[i].set_title(titles[i], size=14)\n",
        "  axs[i].set_xlabel(\"$\\lambda$\", size=12)\n",
        "  axs[i].set_ylabel(\"$\\Theta$\", size=12)\n",
        "\n",
        "  ticks=[0,7,14]\n",
        "  labels=np.round(x, 2)[ticks]\n",
        "  axs[i].set_xticks(ticks)\n",
        "  axs[i].set_xticklabels(labels)\n",
        "  axs[i].set_yticks(ticks)\n",
        "  axs[i].set_yticklabels(labels[::-1])\n",
        "  \n",
        "cbar = fig.colorbar(im, ax=axs.ravel().tolist())\n",
        "\n",
        "fig.set_figheight(3.25)\n",
        "fig.set_figwidth(15)\n",
        "plt.savefig(path+'decomp2.png', bbox_inches='tight', dpi=300, transparent=True)\n",
        "plt.show()"
      ],
      "execution_count": 18,
      "outputs": [
        {
          "output_type": "display_data",
          "data": {
            "image/png": "[encoded data removed]",
            "text/plain": [
              "<Figure size 1080x234 with 4 Axes>"
            ]
          },
          "metadata": {
            "tags": [],
            "needs_background": "light"
          }
        }
      ]
    },
    {
      "cell_type": "code",
      "metadata": {
        "colab": {
          "base_uri": "https://localhost:8080/",
          "height": 269
        },
        "id": "EOwP6aJtqlbV",
        "outputId": "9760c226-df4d-4ccb-eda0-8453a57a050e"
      },
      "source": [
        "fig, axs = plt.subplots(1,3)\n",
        "\n",
        "left  = 0.125  # the left side of the subplots of the figure\n",
        "right = 0.9    # the right side of the subplots of the figure\n",
        "bottom = 0.1   # the bottom of the subplots of the figure\n",
        "top = 0.9      # the top of the subplots of the figure\n",
        "wspace = 0.25   # the amount of width reserved for blank space between subplots\n",
        "hspace = 0.2   # the amount of height reserved for white space between subplots\n",
        "plt.subplots_adjust(left, bottom, right, top, wspace, hspace)\n",
        "\n",
        "for i in range(3):\n",
        "  m=np.max(T[i]) #*1.05\n",
        "  #print(T[i].shape, E[i].shape)\n",
        "  axs[i].scatter(T[i].reshape(-1),E[i].reshape(-1), c='g', alpha=.75, s=10)\n",
        "  axs[i].plot([0, m], [0, m], color = 'b', linewidth = 2, alpha=.2)\n",
        "  axs[i].set_title(titles[i], size=14)\n",
        "  axs[i].set_xlabel(\"Theoretical\", size=12)\n",
        "  axs[i].set_ylabel(\"Empirical\", size=12)\n",
        "  axs[i].set_xlim([0,m])\n",
        "  axs[i].set_ylim([0,m])\n",
        "\n",
        "fig.set_figheight(3.25)\n",
        "fig.set_figwidth(13)\n",
        "plt.savefig(path+'decomp3.png', bbox_inches='tight', dpi=300, transparent=True)\n",
        "plt.show()"
      ],
      "execution_count": 19,
      "outputs": [
        {
          "output_type": "display_data",
          "data": {
            "image/png": "[encoded data removed]",
            "text/plain": [
              "<Figure size 936x234 with 3 Axes>"
            ]
          },
          "metadata": {
            "tags": [],
            "needs_background": "light"
          }
        }
      ]
    },
    {
      "cell_type": "code",
      "metadata": {
        "id": "5Nd5uW8HLktI"
      },
      "source": [
        ""
      ],
      "execution_count": 19,
      "outputs": []
    },
    {
      "cell_type": "code",
      "metadata": {
        "id": "t_hwKpR9AMlK"
      },
      "source": [
        ""
      ],
      "execution_count": 21,
      "outputs": []
    }
  ]
}