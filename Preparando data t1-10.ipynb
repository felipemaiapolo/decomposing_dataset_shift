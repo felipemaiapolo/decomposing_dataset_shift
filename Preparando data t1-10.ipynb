{
 "cells": [
  {
   "cell_type": "code",
   "execution_count": 1,
   "metadata": {},
   "outputs": [],
   "source": [
    "import pandas as pd\n",
    "import numpy as np\n",
    "import matplotlib.pyplot as plt\n",
    "import pickle\n",
    "\n",
    "from sklearn.model_selection import train_test_split\n",
    "from sklearn.metrics import accuracy_score\n",
    "from sklearn.metrics import roc_auc_score\n",
    "from sklearn.feature_selection import SelectFromModel\n",
    "\n",
    "import xgboost as xgb\n",
    "\n",
    "pd.set_option('display.max_columns', None)"
   ]
  },
  {
   "cell_type": "code",
   "execution_count": 2,
   "metadata": {},
   "outputs": [],
   "source": [
    "with open(\"data/importance_names.txt\", \"rb\") as fp:   # Unpickling\n",
    "    importance_names = pickle.load(fp)"
   ]
  },
  {
   "cell_type": "code",
   "execution_count": 3,
   "metadata": {},
   "outputs": [
    {
     "data": {
      "text/plain": [
       "['zpont_vl_ct',\n",
       " 'zvlparcaberto',\n",
       " 'zqtcontratoconsigativoa30d',\n",
       " 'zvlparcabertou90d',\n",
       " 'zmaxmaxdatrasoparcnpg',\n",
       " 'zpont_qt_ct',\n",
       " 'zvlfaturaabertaa10drec',\n",
       " 'zqtcontratoativoa180d',\n",
       " 'zvlcomprometimentoempoutpj',\n",
       " 'zqtfatura90dpgprz']"
      ]
     },
     "execution_count": 3,
     "metadata": {},
     "output_type": "execute_result"
    }
   ],
   "source": [
    "importance_names[:10]"
   ]
  },
  {
   "cell_type": "code",
   "execution_count": 4,
   "metadata": {},
   "outputs": [],
   "source": [
    "from tqdm import tqdm"
   ]
  },
  {
   "cell_type": "code",
   "execution_count": 5,
   "metadata": {},
   "outputs": [
    {
     "name": "stderr",
     "output_type": "stream",
     "text": [
      "100%|██████████| 9/9 [39:56<00:00, 266.29s/it]\n"
     ]
    }
   ],
   "source": [
    "for i in tqdm(range(1,10)):\n",
    "    \n",
    "    src = pd.read_csv('data/dataset_t'+str(i)+'_complete.csv') \n",
    "\n",
    "    X = src.drop(columns=['SConcEver30dP3_100','ndoc','Unnamed: 0','autoriza_pos_b2c','autoriza_pos','autoriza_pos_b2b','zmodultcontratoativo'])\n",
    "    y = src.loc[:,'SConcEver30dP3_100']\n",
    "    ids = src.loc[:,'ndoc']\n",
    "\n",
    "    X = pd.DataFrame(X).astype(float)\n",
    "    y = pd.DataFrame(y).squeeze()\n",
    "\n",
    "    X=X.loc[:,importance_names]\n",
    "\n",
    "    X.to_csv('data/X_t'+str(i)+'.csv', index=False, header=True)\n",
    "    y.to_csv('data/y_t'+str(i)+'.csv', index=False, header=True)\n",
    "    ids.to_csv('data/ids_t'+str(i)+'.csv', index=False, header=True)"
   ]
  },
  {
   "cell_type": "code",
   "execution_count": null,
   "metadata": {},
   "outputs": [],
   "source": []
  },
  {
   "cell_type": "code",
   "execution_count": null,
   "metadata": {},
   "outputs": [],
   "source": []
  }
 ],
 "metadata": {
  "kernelspec": {
   "display_name": "Python 3",
   "language": "python",
   "name": "python3"
  },
  "language_info": {
   "codemirror_mode": {
    "name": "ipython",
    "version": 3
   },
   "file_extension": ".py",
   "mimetype": "text/x-python",
   "name": "python",
   "nbconvert_exporter": "python",
   "pygments_lexer": "ipython3",
   "version": "3.8.3"
  }
 },
 "nbformat": 4,
 "nbformat_minor": 4
}
